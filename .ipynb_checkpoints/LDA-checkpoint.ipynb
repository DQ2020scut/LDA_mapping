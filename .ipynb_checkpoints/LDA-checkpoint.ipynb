{
 "cells": [
  {
   "cell_type": "code",
   "execution_count": 1,
   "metadata": {
    "scrolled": true
   },
   "outputs": [
    {
     "name": "stderr",
     "output_type": "stream",
     "text": [
      "/Users/wuchengke/opt/anaconda3/lib/python3.8/site-packages/gensim/similarities/__init__.py:15: UserWarning: The gensim.similarities.levenshtein submodule is disabled, because the optional Levenshtein package <https://pypi.org/project/python-Levenshtein/> is unavailable. Install Levenhstein (e.g. `pip install python-Levenshtein`) to suppress this warning.\n",
      "  warnings.warn(msg)\n"
     ]
    }
   ],
   "source": [
    "import numpy as np\n",
    "from gensim import corpora\n",
    "from gensim import models\n",
    "from gensim.parsing.preprocessing import STOPWORDS\n",
    "\n",
    "from collections import Counter\n",
    "import re\n",
    "from sklearn import datasets\n",
    "import nltk\n",
    "#import pyLDAvis.gensim\n",
    "import pandas as pd\n",
    "import os\n",
    "import random\n",
    "import warnings\n",
    "import seaborn\n",
    "warnings.filterwarnings(\"ignore\")\n",
    "from sklearn.metrics import confusion_matrix\n",
    "import matplotlib.pyplot as plt"
   ]
  },
  {
   "cell_type": "code",
   "execution_count": 2,
   "metadata": {},
   "outputs": [],
   "source": [
    "def tokenize(text, stopwords): # tokenize + stopwords removal\n",
    "    text = text.lower().strip()\n",
    "    words = re.sub('\\W', ' ', text).split() # \\W 匹配任何非单词字符\n",
    "    words = [re.sub('\\\\s+', ' ', w) for w in words]\n",
    "    words = [w for w in words if w not in stopwords]\n",
    "    return words\n",
    "\n",
    "def save_model(model, name, root, model_dir='models/'):\n",
    "    save_path = os.path.join(root, model_dir)\n",
    "    os.chdir(save_path)\n",
    "    model.save(name + '.model')\n",
    "    os.chdir('..')\n",
    "\n",
    "def load_model(name, root, model_dir='models/'):\n",
    "    model_path = os.path.join(root, model_dir)\n",
    "    os.chdir(model_path)\n",
    "    name = name + '.model'\n",
    "    model_path = os.path.join(model_path, name)\n",
    "    model = models.ldamodel.LdaModel.load(model_path)\n",
    "    os.chdir('..')\n",
    "    return model\n",
    "\n",
    "def tolower(text):\n",
    "    return str(text).lower()\n",
    "\n",
    "def sub_letters(text):\n",
    "    text = text.strip()\n",
    "    text = re.sub('\\W', ' ', text)\n",
    "    text = re.sub('\\\\s+', ' ', text)\n",
    "    return text\n",
    "\n",
    "def train_model(train_corpus, topic_len, id2word_dict, passes, iters, threshold=None, num_threshold=3):\n",
    "    model = models.ldamodel.LdaModel(train_corpus, num_topics=topic_len, id2word=id2word_dict, passes=passes, iterations=iters)\n",
    "    topics = model.print_topics(topic_len)\n",
    "    \n",
    "    if not threshold==None:\n",
    "        temp_probs = []\n",
    "        num_err_topics = 0\n",
    "        \n",
    "        for t in topics:\n",
    "            prob = float(t[1].split('+')[0][0:5]) # get the maximum probability of each topic, i.e., the first probability\n",
    "            temp_probs.append(prob)\n",
    "            if prob < threshold:\n",
    "                num_err_topics += 1\n",
    "        \n",
    "        min_prob = np.min(temp_probs)\n",
    "        #print(min_prob, num_err_topics)\n",
    "        if min_prob >= threshold or num_err_topics <= num_threshold:\n",
    "            return True, topics, model, (min_prob, num_err_topics)\n",
    "        else:\n",
    "            return False, topics, model, (min_prob, num_err_topics)\n",
    "    else:\n",
    "        return True, topics, model\n",
    "\n",
    "def generate_testing_terms(size, high, id2word_dict): # high: the maximum number of terms in the dictionary; size: the number of testing samples\n",
    "    testing_terms = []\n",
    "    while(len(testing_terms) < size):\n",
    "        idx = random.randint(0, high)\n",
    "        if id2word_dict[idx] in testing_terms:\n",
    "            continue\n",
    "        temp_term = id2word_dict[idx]\n",
    "        #print(temp_term)\n",
    "        if 'contains' in temp_term:\n",
    "            continue\n",
    "        testing_terms.append(temp_term)\n",
    "    return testing_terms\n",
    "\n",
    "def tagging(term):\n",
    "    if not 'covers' in term:\n",
    "        tag = term.split(' ')[-1]\n",
    "        stri = ' '\n",
    "        term = stri.join(term.split(' ')[:-1])\n",
    "        return (term, tag)\n",
    "    else:\n",
    "        return (term, None)\n",
    "\n",
    "def extra_same_elem(l1, l2):\n",
    "    set1 = set(l1)\n",
    "    set2 = set(l2)\n",
    "    iset = set1.intersection(set2)\n",
    "    return(list(iset))\n",
    "\n",
    "def extra_dif_elem(l1, l2):\n",
    "    same_elem = extra_same_elem(l1, l2)\n",
    "    dif_elem = [x for x in (l1 + l2) if x not in same_elem]\n",
    "    return dif_elem\n",
    "\n",
    "def find_duplicates(ls):\n",
    "    dic = dict(Counter(ls))\n",
    "    duplicates = [key for key, value in dic.items() if value>1]\n",
    "    return duplicates\n",
    "\n",
    "def semantic_data_enrich(df):\n",
    "    # semantic enriching\n",
    "    all_lst = []\n",
    "    for i, row in df.iterrows():\n",
    "        row = row.dropna().values\n",
    "        terms = list(row[0 : -1])\n",
    "        terms = list(map(tagging, list(map(sub_letters, list(map(tolower, terms))))))\n",
    "        \n",
    "        spatials = row[-1].split(';') # get spatial relation list\n",
    "        spatial_tags = [sp.split('contains')[0] for sp in spatials]\n",
    "        \n",
    "        out_terms = [t[0] for t in terms]\n",
    "        print('row', row)\n",
    "        final_out_terms = []\n",
    "        for ot in out_terms:\n",
    "            if not 'covers'in ot:\n",
    "                for st in spatial_tags:                    \n",
    "                    final_out_terms.append(ot + 'SPTAG' + st)\n",
    "            else:\n",
    "                final_out_terms.append(ot)\n",
    "        print(final_out_terms)\n",
    "        \n",
    "        c_list = []\n",
    "        mc_list = []\n",
    "        pm_list = []\n",
    "        other_list = []\n",
    "        add_list = []\n",
    "        for t in terms:\n",
    "            if t[-1]=='mc':\n",
    "                mc_list.append(t[0])\n",
    "            elif t[-1]=='c':\n",
    "                c_list.append(t[0])\n",
    "            elif t[-1]=='pm':\n",
    "                pm_list.append(t[0])\n",
    "            else:\n",
    "                other_list.append(t[0])\n",
    "   \n",
    "        for sp in spatials:\n",
    "            for c in c_list:\n",
    "                add = sp + 'SPLINK' + c #+ ' + ' + st # spatial contains cxx + spatial tag\n",
    "                add_list.append(add)\n",
    "        \n",
    "        all_c = '; '.join(c_list)\n",
    "        for mc in mc_list:\n",
    "            if len(c_list)>0:\n",
    "                for c in c_list:\n",
    "                    add = mc + 'CONNECTS' + c\n",
    "                    add_list.append(add)\n",
    "            for sp in spatials:\n",
    "                add = sp + 'SPLINK' + mc #+ ' + ' + st\n",
    "                add_list.append(add) # spatial contains mcxx + spatial tag\n",
    "\n",
    "        for pm in pm_list:\n",
    "            for c in c_list:\n",
    "                add = pm + 'PAINTON' + c #+ ' + ' + st\n",
    "                add_list.append(add)\n",
    "        #print(str(i), '\\t', len(add_list + final_out_terms))\n",
    "        print(add_list + final_out_terms)\n",
    "        print()\n",
    "        all_lst.append(add_list + final_out_terms)\n",
    "        \n",
    "    return pd.DataFrame(all_lst)\n",
    "\n",
    "def data_expand(df, hsize=0, vsize=0, prob=0.2):\n",
    "    # horizontally expand\n",
    "    for i, row in df.iterrows(): # expand each row\n",
    "        temp_row = list(row.dropna().values)\n",
    "        ls_len = len(temp_row)\n",
    "        for j in range(0, hsize - ls_len): # expand each row by 'hsize'\n",
    "            randx = np.random.randint(0, ls_len)\n",
    "            rand_term = temp_row[randx] # get a random index of the original df columns\n",
    "            temp_row.append(rand_term)\n",
    "            #print(randx, ' ', rand_term)\n",
    "        print('horizontally expand results: origin: ', ls_len, 'later: ', len(temp_row))\n",
    "    \n",
    "    # vertically expand\n",
    "    add_tags = []\n",
    "    add_rows = []\n",
    "    for i in range(0, vsize):\n",
    "        randx = np.random.randint(1, df.shape[0]) # assume the first column is the label\n",
    "        temp_row = list(df.iloc[randx].dropna().values)\n",
    "        limit = int(np.floor(len(temp_row) * prob))\n",
    "        # print(temp_row,'  ',len(temp_row))\n",
    "        \n",
    "        if np.random.randint(0, 10)>=5:\n",
    "            add_tags.append('drop')\n",
    "            for i in range(0, limit):\n",
    "                temp_row.pop(np.random.randint(0, len(temp_row)))\n",
    "        else:\n",
    "            add_tags.append('add')\n",
    "            for i in range(0, limit):\n",
    "                temp_row.append(temp_row[np.random.randint(0, len(temp_row))])\n",
    "        add_rows.append(temp_row)\n",
    "    \n",
    "    temp_df = pd.DataFrame(add_rows)\n",
    "    df = pd.concat([df, temp_df], axis=0)\n",
    "    drop_mode = len([a for a in add_tags if a=='drop'])\n",
    "    add_mode = len([a for a in add_tags if a=='add'])\n",
    "    print('in the expansion, {} columns are added, {} rows are added, while among the added rows {} drop-mode and {} add-mode.'.format(hsize, vsize, drop_mode, add_mode))\n",
    "    return df, add_tags\n",
    "\n",
    "def plot_confusion_matrix(cm, save_path, classes=None, normalize=False, title=None, cmap=plt.cm.Blues):\n",
    "    if not title==None:\n",
    "        title = 'Confusion matrix of LDA mapping'\n",
    "    if normalize:\n",
    "        cm = cm.astype('float') / cm.sum(axis=1)[:, np.newaxis]\n",
    "\n",
    "    plt.rc('font',family='Times New Roman',size='8')   # 设置字体样式、大小\n",
    "    fig, ax = plt.subplots()\n",
    "    im = ax.imshow(cm, interpolation='nearest', cmap=cmap)\n",
    "    ax.figure.colorbar(im, ax=ax)\n",
    "    # We want to show all ticks...\n",
    "    ax.set(xticks=np.arange(cm.shape[1]),\n",
    "           yticks=np.arange(cm.shape[0]),\n",
    "           # ... and label them with the respective list entries\n",
    "           #xticklabels=classes, yticklabels=classes,\n",
    "           title=title,\n",
    "           ylabel='True label',\n",
    "           xlabel='Predicted label')\n",
    "\n",
    "    # Rotate the tick labels and set their alignment.\n",
    "    plt.setp(ax.get_xticklabels(), rotation=45, ha=\"right\",\n",
    "             rotation_mode=\"anchor\")\n",
    "\n",
    "    # Loop over data dimensions and create text annotations.\n",
    "    fmt = '.2f' if normalize else 'd'\n",
    "    thresh = cm.max() / 2.\n",
    "    for i in range(cm.shape[0]):\n",
    "        for j in range(cm.shape[1]):\n",
    "            ax.text(j, i, format(cm[i, j], fmt),\n",
    "                    ha=\"center\", va=\"center\",\n",
    "                    color=\"white\" if cm[i, j] > thresh else \"black\")\n",
    "    fig.tight_layout()\n",
    "    plt.savefig(save_path, dpi=400) \n",
    "    plt.show()"
   ]
  },
  {
   "cell_type": "code",
   "execution_count": 3,
   "metadata": {
    "scrolled": true
   },
   "outputs": [
    {
     "name": "stdout",
     "output_type": "stream",
     "text": [
      "current base file:  /Users/wuchengke/Documents/Other Study/Jupyter/LDA\n",
      "currently there are 23 tasks\n",
      "horizontally expand results: origin:  19 later:  100\n",
      "horizontally expand results: origin:  16 later:  100\n",
      "horizontally expand results: origin:  19 later:  100\n",
      "horizontally expand results: origin:  18 later:  100\n",
      "horizontally expand results: origin:  19 later:  100\n",
      "horizontally expand results: origin:  20 later:  100\n",
      "horizontally expand results: origin:  18 later:  100\n",
      "horizontally expand results: origin:  20 later:  100\n",
      "horizontally expand results: origin:  19 later:  100\n",
      "horizontally expand results: origin:  20 later:  100\n",
      "horizontally expand results: origin:  22 later:  100\n",
      "horizontally expand results: origin:  19 later:  100\n",
      "horizontally expand results: origin:  21 later:  100\n",
      "horizontally expand results: origin:  17 later:  100\n",
      "horizontally expand results: origin:  19 later:  100\n",
      "horizontally expand results: origin:  21 later:  100\n",
      "horizontally expand results: origin:  20 later:  100\n",
      "horizontally expand results: origin:  20 later:  100\n",
      "horizontally expand results: origin:  19 later:  100\n",
      "horizontally expand results: origin:  21 later:  100\n",
      "horizontally expand results: origin:  22 later:  100\n",
      "horizontally expand results: origin:  20 later:  100\n",
      "horizontally expand results: origin:  21 later:  100\n",
      "horizontally expand results: origin:  19 later:  100\n",
      "horizontally expand results: origin:  16 later:  100\n",
      "horizontally expand results: origin:  19 later:  100\n",
      "horizontally expand results: origin:  18 later:  100\n",
      "horizontally expand results: origin:  19 later:  100\n",
      "horizontally expand results: origin:  20 later:  100\n",
      "horizontally expand results: origin:  18 later:  100\n",
      "horizontally expand results: origin:  20 later:  100\n",
      "horizontally expand results: origin:  19 later:  100\n",
      "horizontally expand results: origin:  20 later:  100\n",
      "horizontally expand results: origin:  22 later:  100\n",
      "horizontally expand results: origin:  19 later:  100\n",
      "horizontally expand results: origin:  21 later:  100\n",
      "horizontally expand results: origin:  17 later:  100\n",
      "horizontally expand results: origin:  19 later:  100\n",
      "horizontally expand results: origin:  21 later:  100\n",
      "horizontally expand results: origin:  20 later:  100\n",
      "horizontally expand results: origin:  20 later:  100\n",
      "horizontally expand results: origin:  19 later:  100\n",
      "horizontally expand results: origin:  21 later:  100\n",
      "horizontally expand results: origin:  22 later:  100\n",
      "horizontally expand results: origin:  20 later:  100\n",
      "horizontally expand results: origin:  21 later:  100\n",
      "horizontally expand results: origin:  19 later:  100\n",
      "horizontally expand results: origin:  16 later:  100\n",
      "horizontally expand results: origin:  19 later:  100\n",
      "horizontally expand results: origin:  18 later:  100\n",
      "horizontally expand results: origin:  19 later:  100\n",
      "horizontally expand results: origin:  20 later:  100\n",
      "horizontally expand results: origin:  18 later:  100\n",
      "horizontally expand results: origin:  20 later:  100\n",
      "horizontally expand results: origin:  19 later:  100\n",
      "horizontally expand results: origin:  20 later:  100\n",
      "horizontally expand results: origin:  22 later:  100\n",
      "horizontally expand results: origin:  19 later:  100\n",
      "horizontally expand results: origin:  21 later:  100\n",
      "horizontally expand results: origin:  17 later:  100\n",
      "horizontally expand results: origin:  19 later:  100\n",
      "horizontally expand results: origin:  21 later:  100\n",
      "horizontally expand results: origin:  20 later:  100\n",
      "horizontally expand results: origin:  20 later:  100\n",
      "horizontally expand results: origin:  19 later:  100\n",
      "horizontally expand results: origin:  21 later:  100\n",
      "horizontally expand results: origin:  22 later:  100\n",
      "horizontally expand results: origin:  20 later:  100\n",
      "horizontally expand results: origin:  21 later:  100\n",
      "horizontally expand results: origin:  19 later:  100\n",
      "horizontally expand results: origin:  16 later:  100\n",
      "horizontally expand results: origin:  19 later:  100\n",
      "horizontally expand results: origin:  18 later:  100\n",
      "horizontally expand results: origin:  19 later:  100\n",
      "horizontally expand results: origin:  20 later:  100\n",
      "horizontally expand results: origin:  18 later:  100\n",
      "horizontally expand results: origin:  20 later:  100\n",
      "horizontally expand results: origin:  19 later:  100\n",
      "horizontally expand results: origin:  20 later:  100\n",
      "horizontally expand results: origin:  22 later:  100\n",
      "horizontally expand results: origin:  19 later:  100\n",
      "horizontally expand results: origin:  21 later:  100\n",
      "horizontally expand results: origin:  17 later:  100\n",
      "horizontally expand results: origin:  19 later:  100\n",
      "horizontally expand results: origin:  21 later:  100\n",
      "horizontally expand results: origin:  20 later:  100\n",
      "horizontally expand results: origin:  20 later:  100\n",
      "horizontally expand results: origin:  19 later:  100\n",
      "horizontally expand results: origin:  21 later:  100\n",
      "horizontally expand results: origin:  22 later:  100\n",
      "horizontally expand results: origin:  20 later:  100\n",
      "horizontally expand results: origin:  21 later:  100\n",
      "horizontally expand results: origin:  19 later:  100\n",
      "horizontally expand results: origin:  16 later:  100\n",
      "horizontally expand results: origin:  19 later:  100\n",
      "horizontally expand results: origin:  18 later:  100\n",
      "horizontally expand results: origin:  19 later:  100\n",
      "horizontally expand results: origin:  20 later:  100\n",
      "horizontally expand results: origin:  18 later:  100\n",
      "horizontally expand results: origin:  20 later:  100\n",
      "horizontally expand results: origin:  19 later:  100\n",
      "horizontally expand results: origin:  20 later:  100\n",
      "horizontally expand results: origin:  22 later:  100\n",
      "horizontally expand results: origin:  19 later:  100\n",
      "horizontally expand results: origin:  21 later:  100\n",
      "horizontally expand results: origin:  17 later:  100\n",
      "horizontally expand results: origin:  19 later:  100\n",
      "horizontally expand results: origin:  21 later:  100\n",
      "horizontally expand results: origin:  20 later:  100\n",
      "horizontally expand results: origin:  20 later:  100\n",
      "horizontally expand results: origin:  19 later:  100\n",
      "horizontally expand results: origin:  21 later:  100\n",
      "horizontally expand results: origin:  22 later:  100\n",
      "horizontally expand results: origin:  20 later:  100\n",
      "horizontally expand results: origin:  21 later:  100\n",
      "horizontally expand results: origin:  19 later:  100\n",
      "horizontally expand results: origin:  16 later:  100\n",
      "horizontally expand results: origin:  19 later:  100\n",
      "horizontally expand results: origin:  18 later:  100\n",
      "horizontally expand results: origin:  19 later:  100\n",
      "horizontally expand results: origin:  20 later:  100\n",
      "horizontally expand results: origin:  18 later:  100\n",
      "horizontally expand results: origin:  20 later:  100\n",
      "horizontally expand results: origin:  19 later:  100\n",
      "horizontally expand results: origin:  20 later:  100\n",
      "horizontally expand results: origin:  22 later:  100\n",
      "horizontally expand results: origin:  19 later:  100\n",
      "horizontally expand results: origin:  21 later:  100\n",
      "horizontally expand results: origin:  17 later:  100\n",
      "horizontally expand results: origin:  19 later:  100\n",
      "horizontally expand results: origin:  21 later:  100\n",
      "horizontally expand results: origin:  20 later:  100\n",
      "horizontally expand results: origin:  20 later:  100\n",
      "horizontally expand results: origin:  19 later:  100\n",
      "horizontally expand results: origin:  21 later:  100\n",
      "horizontally expand results: origin:  22 later:  100\n",
      "horizontally expand results: origin:  20 later:  100\n",
      "horizontally expand results: origin:  21 later:  100\n",
      "horizontally expand results: origin:  19 later:  100\n",
      "horizontally expand results: origin:  16 later:  100\n",
      "horizontally expand results: origin:  19 later:  100\n",
      "horizontally expand results: origin:  18 later:  100\n",
      "horizontally expand results: origin:  19 later:  100\n",
      "horizontally expand results: origin:  20 later:  100\n",
      "horizontally expand results: origin:  18 later:  100\n",
      "horizontally expand results: origin:  20 later:  100\n",
      "horizontally expand results: origin:  19 later:  100\n",
      "horizontally expand results: origin:  20 later:  100\n",
      "horizontally expand results: origin:  22 later:  100\n",
      "horizontally expand results: origin:  19 later:  100\n",
      "horizontally expand results: origin:  21 later:  100\n",
      "horizontally expand results: origin:  17 later:  100\n",
      "horizontally expand results: origin:  19 later:  100\n",
      "horizontally expand results: origin:  21 later:  100\n",
      "horizontally expand results: origin:  20 later:  100\n",
      "horizontally expand results: origin:  20 later:  100\n",
      "horizontally expand results: origin:  19 later:  100\n",
      "horizontally expand results: origin:  21 later:  100\n",
      "horizontally expand results: origin:  22 later:  100\n",
      "horizontally expand results: origin:  20 later:  100\n",
      "horizontally expand results: origin:  21 later:  100\n",
      "horizontally expand results: origin:  19 later:  100\n",
      "horizontally expand results: origin:  16 later:  100\n",
      "horizontally expand results: origin:  19 later:  100\n",
      "horizontally expand results: origin:  18 later:  100\n",
      "horizontally expand results: origin:  19 later:  100\n",
      "horizontally expand results: origin:  20 later:  100\n",
      "horizontally expand results: origin:  18 later:  100\n",
      "horizontally expand results: origin:  20 later:  100\n",
      "horizontally expand results: origin:  19 later:  100\n",
      "horizontally expand results: origin:  20 later:  100\n",
      "horizontally expand results: origin:  22 later:  100\n",
      "horizontally expand results: origin:  19 later:  100\n",
      "horizontally expand results: origin:  21 later:  100\n",
      "horizontally expand results: origin:  17 later:  100\n",
      "horizontally expand results: origin:  19 later:  100\n",
      "horizontally expand results: origin:  21 later:  100\n",
      "horizontally expand results: origin:  20 later:  100\n",
      "horizontally expand results: origin:  20 later:  100\n",
      "horizontally expand results: origin:  19 later:  100\n",
      "horizontally expand results: origin:  21 later:  100\n",
      "horizontally expand results: origin:  22 later:  100\n",
      "horizontally expand results: origin:  20 later:  100\n",
      "horizontally expand results: origin:  21 later:  100\n",
      "horizontally expand results: origin:  19 later:  100\n",
      "horizontally expand results: origin:  16 later:  100\n",
      "horizontally expand results: origin:  19 later:  100\n",
      "horizontally expand results: origin:  18 later:  100\n",
      "horizontally expand results: origin:  19 later:  100\n",
      "horizontally expand results: origin:  20 later:  100\n",
      "horizontally expand results: origin:  18 later:  100\n",
      "horizontally expand results: origin:  20 later:  100\n",
      "horizontally expand results: origin:  19 later:  100\n",
      "horizontally expand results: origin:  20 later:  100\n",
      "horizontally expand results: origin:  22 later:  100\n",
      "horizontally expand results: origin:  19 later:  100\n",
      "horizontally expand results: origin:  21 later:  100\n",
      "horizontally expand results: origin:  17 later:  100\n",
      "horizontally expand results: origin:  19 later:  100\n",
      "horizontally expand results: origin:  21 later:  100\n",
      "horizontally expand results: origin:  20 later:  100\n",
      "horizontally expand results: origin:  20 later:  100\n",
      "horizontally expand results: origin:  19 later:  100\n",
      "horizontally expand results: origin:  21 later:  100\n",
      "horizontally expand results: origin:  22 later:  100\n",
      "horizontally expand results: origin:  20 later:  100\n",
      "horizontally expand results: origin:  21 later:  100\n",
      "horizontally expand results: origin:  19 later:  100\n",
      "horizontally expand results: origin:  16 later:  100\n",
      "horizontally expand results: origin:  19 later:  100\n",
      "horizontally expand results: origin:  18 later:  100\n",
      "horizontally expand results: origin:  19 later:  100\n",
      "horizontally expand results: origin:  20 later:  100\n",
      "horizontally expand results: origin:  18 later:  100\n",
      "horizontally expand results: origin:  20 later:  100\n",
      "horizontally expand results: origin:  19 later:  100\n",
      "horizontally expand results: origin:  20 later:  100\n",
      "horizontally expand results: origin:  22 later:  100\n",
      "horizontally expand results: origin:  19 later:  100\n",
      "horizontally expand results: origin:  21 later:  100\n",
      "horizontally expand results: origin:  17 later:  100\n",
      "horizontally expand results: origin:  19 later:  100\n",
      "horizontally expand results: origin:  21 later:  100\n",
      "horizontally expand results: origin:  20 later:  100\n",
      "horizontally expand results: origin:  20 later:  100\n",
      "horizontally expand results: origin:  19 later:  100\n",
      "horizontally expand results: origin:  21 later:  100\n",
      "horizontally expand results: origin:  22 later:  100\n",
      "horizontally expand results: origin:  20 later:  100\n",
      "horizontally expand results: origin:  21 later:  100\n"
     ]
    },
    {
     "name": "stdout",
     "output_type": "stream",
     "text": [
      "in the expansion, 100 columns are added, 1000 rows are added, while among the added rows 479 drop-mode and 521 add-mode.\n"
     ]
    }
   ],
   "source": [
    "root = os.getcwd()\n",
    "print('current base file: ', root)\n",
    "work_data = os.path.join(root, 'data/data_separated_23.csv')\n",
    "\n",
    "stopwords = STOPWORDS\n",
    "enhance = False\n",
    "tf_idf = False\n",
    "topic_len = 23\n",
    "h_size = 100 # 按列拓展数据\n",
    "v_size = 1000 # 按行拓展数据\n",
    "prob = 0\n",
    "\n",
    "print('currently there are {} tasks'.format(topic_len))\n",
    "data_work_df = pd.read_csv(work_data, header=None)\n",
    "if enhance == True:\n",
    "    data_work_df = semantic_data_enrich(data_work_df)\n",
    "\n",
    "train_df, _ = data_expand(data_work_df, hsize=h_size, vsize=v_size, prob=prob)\n",
    "\n",
    "train_term_list = []\n",
    "for i, row in train_df.iterrows():\n",
    "    temp = list(row.dropna().values)\n",
    "    train_term_list.append(temp)"
   ]
  },
  {
   "cell_type": "code",
   "execution_count": null,
   "metadata": {},
   "outputs": [],
   "source": []
  },
  {
   "cell_type": "code",
   "execution_count": 7,
   "metadata": {},
   "outputs": [
    {
     "name": "stdout",
     "output_type": "stream",
     "text": [
      "原始word2id词典大小:  178\n"
     ]
    }
   ],
   "source": [
    "id2word_dict = corpora.Dictionary(train_term_list) # id -> word (after pre-processing)\n",
    "print('原始word2id词典大小: ', len(id2word_dict))\n",
    "#id2word_dict.filter_extremes(no_below = 20, no_above = 0.1)\n",
    "#print('经过频次过滤后的word2id词典大小: ', len(id2word_dict))\n",
    "\n",
    "# generate word2id dic\n",
    "word2id_dict = {}\n",
    "for k, v in id2word_dict.items():\n",
    "    word2id_dict.update({v : k})\n",
    "all_terms = list(word2id_dict.keys()) # 记录所有的term 初步 testing的时候从这个里面随机选\n",
    "    \n",
    "train_corpus = []\n",
    "for pdoc in train_term_list:\n",
    "    # doc2bow输出结果是a list of tuples 每个tuple是这个文档中每个词（按顺序）在该文档中的频次\n",
    "    tb = id2word_dict.doc2bow(pdoc)\n",
    "    train_corpus.append(tb)"
   ]
  },
  {
   "cell_type": "code",
   "execution_count": 9,
   "metadata": {
    "scrolled": true
   },
   "outputs": [
    {
     "data": {
      "text/plain": [
       "[(0,\n",
       "  '0.185*\"condiuts and accessories\" + 0.185*\"mep conduit\" + 0.185*\"conduit\" + 0.185*\"flexible conduit\" + 0.138*\"upvc conduits\" + 0.046*\"flexible conduit belongs to mep system\" + 0.046*\"upvc conduits and fittings\" + 0.000*\"knauf frp board\" + 0.000*\"gypsum board\" + 0.000*\"gemtree frp board\"'),\n",
       " (1,\n",
       "  '0.179*\"shear stud\" + 0.179*\"ceiling system contains steel ceiling beam\" + 0.179*\"ceiling system contains shear stud\" + 0.179*\"ceiling system contains ceiling panel\" + 0.179*\"ceiling panel\" + 0.060*\"steel ceiling beam\" + 0.001*\"corner casting\" + 0.001*\"steel angle\" + 0.001*\"steel column\" + 0.001*\"overhead door closer\"'),\n",
       " (2,\n",
       "  '0.203*\"bar chair\" + 0.203*\"steel reinforcement bar\" + 0.203*\"reinforcement bar\" + 0.203*\"rebar\" + 0.102*\"tie wire\" + 0.051*\"spacer\" + 0.000*\"knauf frp board\" + 0.000*\"gemtree frp board\" + 0.000*\"gypsum board\" + 0.000*\"cement board\"'),\n",
       " (3,\n",
       "  '0.339*\"concrete mixture\" + 0.339*\"concrete\" + 0.170*\"non shrink grout\" + 0.113*\"concrete addings\" + 0.000*\"composite floor slab\" + 0.000*\"wall system contains corrugated profile\" + 0.000*\"steel column\" + 0.000*\"steel angle\" + 0.000*\"corner casting\" + 0.000*\"shear stud\"'),\n",
       " (4,\n",
       "  '0.242*\"emulsion paint\" + 0.193*\"ceiling panel\" + 0.193*\"wall panel\" + 0.097*\"emulsion\" + 0.049*\"wall system contains wall panel\" + 0.049*\"wall system contains studs\" + 0.049*\"anti mould emulsion paint\" + 0.049*\"ceiling system contains studs\" + 0.049*\"ceiling system contains ceiling panel\" + 0.001*\"welding electrode\"'),\n",
       " (5,\n",
       "  '0.170*\"steel column\" + 0.170*\"corner casting\" + 0.170*\"steel angle\" + 0.057*\"steel ceiling beam\" + 0.057*\"candleloc system\" + 0.057*\"space contains shear stud\" + 0.057*\"space contains steel ceiling beam\" + 0.057*\"2d panel\" + 0.057*\"steel floor beam\" + 0.057*\"steel purlins\"'),\n",
       " (6,\n",
       "  '0.214*\"overhead door closer\" + 0.214*\"door threshold\" + 0.214*\"acoustic insulation\" + 0.107*\"rockwool acoustic insulation\" + 0.107*\"door frame\" + 0.054*\"aluminium cladding\" + 0.054*\"hardwood solid core flush doors\" + 0.001*\"firecut paint\" + 0.000*\"firecut fm 900 paint\" + 0.000*\"fire protection paint\"'),\n",
       " (7,\n",
       "  '0.193*\"toilet cabinet\" + 0.193*\"sink cabinet\" + 0.145*\"tv cabinet\" + 0.145*\"wall cabinet\" + 0.145*\"toilet sink cabinet\" + 0.145*\"cabinets\" + 0.001*\"welding electrode\" + 0.001*\"pvc copper cable\" + 0.001*\"pvc cable\" + 0.001*\"swa copper cable\"'),\n",
       " (8,\n",
       "  '0.251*\"laminate for wall finsishes\" + 0.251*\"laminates\" + 0.251*\"finishings\" + 0.051*\"gypsum board\" + 0.050*\"wall system contains laminates\" + 0.050*\"wall system contains finishings\" + 0.050*\"wall system contains gypsum board\" + 0.001*\"grooved couplings\" + 0.001*\"fire detector\" + 0.001*\"fire alarm\"'),\n",
       " (9,\n",
       "  '0.145*\"grooved couplings\" + 0.145*\"fire alarm\" + 0.145*\"fire detector\" + 0.097*\"smoke detectors\" + 0.097*\"galvanized steel pipes fittings\" + 0.097*\"sprinkler heads\" + 0.097*\"grooved pipe fittings\" + 0.097*\"fire alarm bells\" + 0.049*\"galvanized steel pipes\" + 0.000*\"steel column\"'),\n",
       " (10,\n",
       "  '0.152*\"coved homogeneous skirting tile\" + 0.152*\"pvc skirting with timber parttern\" + 0.152*\"porcelain floor tiles\" + 0.152*\"homogeneous skirting tile\" + 0.152*\"pvc sheet vinyl\" + 0.152*\"pvc skirting\" + 0.051*\"non slip pvc sheet vinyl\" + 0.001*\"composite floor slab\" + 0.001*\"wall system contains corrugated profile\" + 0.001*\"firecut paint\"'),\n",
       " (11,\n",
       "  '0.153*\"handle\" + 0.153*\"timber door\" + 0.153*\"hinge\" + 0.153*\"latches\" + 0.153*\"glass panel\" + 0.051*\"door ironmongery\" + 0.051*\"frp timber door\" + 0.051*\"aluminium window\" + 0.051*\"non frp timber door\" + 0.000*\"shear stud\"'),\n",
       " (12,\n",
       "  '0.203*\"pvc cable\" + 0.203*\"cable tray\" + 0.203*\"swa copper cable\" + 0.203*\"pvc copper cable\" + 0.051*\"non armoured cable\" + 0.051*\"amoured wiring\" + 0.051*\"busbar chamber\" + 0.001*\"firecut paint\" + 0.000*\"fire protection paint\" + 0.000*\"firecut fm 900 paint\"'),\n",
       " (13,\n",
       "  '0.255*\"wall system contains corrugated profile\" + 0.255*\"composite floor slab\" + 0.127*\"ceil system contains corrugated profile\" + 0.127*\"corrugated profile\" + 0.127*\"plane contains shear stud\" + 0.064*\"shear stud\" + 0.001*\"firecut paint\" + 0.001*\"fire protection paint\" + 0.001*\"firecut fm 900 paint\" + 0.001*\"air grilles\"'),\n",
       " (14,\n",
       "  '0.161*\"cement board\" + 0.161*\"gypsum board\" + 0.161*\"knauf frp board\" + 0.161*\"gemtree frp board\" + 0.107*\"lysaght bondek\" + 0.054*\"none contains promatect hboard\" + 0.054*\"none contains gemtree frp board\" + 0.054*\"promatect hboard\" + 0.054*\"none contains gypsum board\" + 0.001*\"swa copper cable\"'),\n",
       " (15,\n",
       "  '0.160*\"ceiling system contains cable trunking\" + 0.107*\"epoxy pipes\" + 0.107*\"epoxy coated cast iron pipes\" + 0.107*\"copper pipes\" + 0.107*\"epoxy\" + 0.107*\"upvc fittings\" + 0.107*\"epoxy coated cast fittings\" + 0.107*\"upvc pipes\" + 0.054*\"cable trunking\" + 0.001*\"gemtree frp board\"'),\n",
       " (16,\n",
       "  '0.534*\"welding electrode\" + 0.427*\"electrode\" + 0.001*\"wall system contains wall panel\" + 0.001*\"wall system contains shear stud\" + 0.001*\"noggins and braces\" + 0.001*\"track\" + 0.001*\"channel\" + 0.001*\"wall tiles\" + 0.000*\"metal skeleton\" + 0.000*\"wall panel\"'),\n",
       " (17,\n",
       "  '0.374*\"firecut paint\" + 0.268*\"fire protection paint\" + 0.268*\"firecut fm 900 paint\" + 0.054*\"3d steel frame\" + 0.000*\"emulsion paint\" + 0.000*\"wall panel\" + 0.000*\"ceiling panel\" + 0.000*\"coved homogeneous skirting tile\" + 0.000*\"pvc sheet vinyl\" + 0.000*\"pvc skirting with timber parttern\"'),\n",
       " (18,\n",
       "  '0.268*\"gemtree frp board\" + 0.214*\"elastometric cemenititious waterproofing membrane\" + 0.214*\"rockwool\" + 0.054*\"ceiling system contains rockwool\" + 0.054*\"gemtree board\" + 0.054*\"promatect hboard\" + 0.054*\"ceiling system contains gemtree frp board\" + 0.054*\"ceiling system contains promatect hboard\" + 0.000*\"weather wiring accessories\" + 0.000*\"busbar chamber\"'),\n",
       " (19,\n",
       "  '0.160*\"wall system contains wall panel\" + 0.160*\"wall system contains shear stud\" + 0.107*\"noggins and braces\" + 0.107*\"track\" + 0.107*\"channel\" + 0.107*\"wall tiles\" + 0.054*\"wall panel\" + 0.054*\"runners\" + 0.054*\"shear stud\" + 0.054*\"metal skeleton\"'),\n",
       " (20,\n",
       "  '0.242*\"wall system contains promatect hboard\" + 0.242*\"mineral wool insulation\" + 0.242*\"rockwool\" + 0.193*\"wall system contains rockwool\" + 0.049*\"promatect hboard\" + 0.000*\"conduit\" + 0.000*\"condiuts and accessories\" + 0.000*\"mep conduit\" + 0.000*\"flexible conduit\" + 0.000*\"fire alarm\"'),\n",
       " (21,\n",
       "  '0.092*\"air filters\" + 0.092*\"air diffuser\" + 0.092*\"ventilation fan\" + 0.092*\"spring vibration isolators\" + 0.092*\"rubber vibration isolators\" + 0.092*\"air grilles diffuser\" + 0.092*\"air grilles\" + 0.092*\"carbon filter\" + 0.092*\"ac\" + 0.092*\"activated carbon filter\"'),\n",
       " (22,\n",
       "  '0.152*\"flexible conduit\" + 0.152*\"label\" + 0.102*\"cable trunking\" + 0.102*\"lightings\" + 0.102*\"weather wiring accessories\" + 0.102*\"battery lighting fittings\" + 0.102*\"wiring accessories\" + 0.051*\"lighting fittings\" + 0.051*\"flexible conduit belongs to lighting system\" + 0.051*\"cable trunking belongs to lighting system\"')]"
      ]
     },
     "execution_count": 9,
     "metadata": {},
     "output_type": "execute_result"
    }
   ],
   "source": [
    "# trian LDA model\n",
    "import time\n",
    "if tf_idf==True:\n",
    "    tf_idf = models.TfidfModel(train_corpus)\n",
    "    train_corpus = tf_idf[train_corpus]\n",
    "\n",
    "count = 0\n",
    "#while(True):\n",
    "#    start = time.time()\n",
    "#    flag, topics, lda_model, info = train_model(train_corpus, topic_len, id2word_dict, 10, 1000, 0.08, 0) # passes, iters, threshold\n",
    "#    count = count + 1\n",
    "#    end = time.time()\n",
    "#    print('current count: {}, min prob: {}, err_topics {}, current run: {}s, '.format(count, info[0], info[1], np.round(end - start, 2)))\n",
    "#    if flag==True or count==1000:\n",
    "#        break;\n",
    "\n",
    "#print('current preplexity: ', lda_model.log_perplexity(train_corpus), '\\n') \n",
    "lda_model.print_topics(35)"
   ]
  },
  {
   "cell_type": "code",
   "execution_count": 12,
   "metadata": {},
   "outputs": [],
   "source": [
    "true_topics = {0:'3d assembly', 1:'install window and door', 2:'welding', 3:'install window and door frame', 4:'rebar fix',\n",
    "              5:'2d assembly', 6:'board pretreatment', 7:'paint structure', 8:'wall finishing', 9:'concreting'}\n"
   ]
  },
  {
   "cell_type": "code",
   "execution_count": 6,
   "metadata": {
    "scrolled": true
   },
   "outputs": [],
   "source": [
    "true_topics = {0:'installing MEP at wall', 1:'installing ceiling stud', 2:'rebar fixing', 3:'pouring concrete',\n",
    "              4:'layer and coat painting', 5:'3D assembly', 6:'installing door and window frame', 7:'installing cabinet',\n",
    "              8:'intalling gypsum board at wall', 9:'installing sprinkler pipes', 10:'installing vinyl and skirting',\n",
    "              11:'installing door and window ironmongery', 12:'electrical cable wiring', 13:'2D panel assembly',\n",
    "              14:'board pretreatment and punching', 15:'installing MEP trunking at ceiling', 16:'Butt and fillet weld',\n",
    "              17:'painting structure member', 18:'rockwool in-fill at ceiling', 19:'installing stud at wall', 20:'rockwool in-fill at wall',\n",
    "              21:'installing window AC', 22:'installing lighting'}\n"
   ]
  },
  {
   "cell_type": "code",
   "execution_count": 7,
   "metadata": {
    "scrolled": true
   },
   "outputs": [
    {
     "name": "stdout",
     "output_type": "stream",
     "text": [
      "\n",
      "Note: if you're in the IPython notebook, pyLDAvis.show() is not the best command\n",
      "      to use. Consider using pyLDAvis.display(), or pyLDAvis.enable_notebook().\n",
      "      See more information at http://pyLDAvis.github.io/quickstart.html .\n",
      "\n",
      "You must interrupt the kernel to end this command\n",
      "\n",
      "Serving to http://127.0.0.1:8889/    [Ctrl-C to exit]\n"
     ]
    },
    {
     "name": "stderr",
     "output_type": "stream",
     "text": [
      "127.0.0.1 - - [28/Jul/2021 15:21:04] \"GET / HTTP/1.1\" 200 -\n",
      "127.0.0.1 - - [28/Jul/2021 15:21:04] \"GET /LDAvis.css HTTP/1.1\" 200 -\n",
      "127.0.0.1 - - [28/Jul/2021 15:21:04] \"GET /d3.js HTTP/1.1\" 200 -\n",
      "127.0.0.1 - - [28/Jul/2021 15:21:04] \"GET /LDAvis.js HTTP/1.1\" 200 -\n"
     ]
    },
    {
     "name": "stdout",
     "output_type": "stream",
     "text": [
      "\n",
      "stopping Server...\n"
     ]
    }
   ],
   "source": [
    "vis = pyLDAvis.gensim.prepare(lda_model, train_corpus, id2word_dict)\n",
    "pyLDAvis.display(vis)"
   ]
  },
  {
   "cell_type": "code",
   "execution_count": 3,
   "metadata": {},
   "outputs": [],
   "source": [
    "# 保存模型\n",
    "#save_model(btm, 'work_0729', root)\n"
   ]
  },
  {
   "cell_type": "markdown",
   "metadata": {},
   "source": [
    "### 测试模型"
   ]
  },
  {
   "cell_type": "code",
   "execution_count": 53,
   "metadata": {},
   "outputs": [],
   "source": [
    "# test new data -- predict topic of a new doc\n",
    "def model_test(terms, lda_model, stopwords, detail=False):\n",
    "    if detail==True:\n",
    "        terms = [tokenize(term, stopwords) for term in terms]\n",
    "    else:\n",
    "        for t in range(len(terms)):\n",
    "            if isinstance(terms[t], list):\n",
    "                for j in range(len(terms[t])):\n",
    "                    pass\n",
    "                    #terms[t][j] = tolower(terms[t][j])\n",
    "                    #terms[t][j] = sub_letters(terms[t][j])\n",
    "            else:\n",
    "                pass\n",
    "                #terms[t] = tolower(terms[t])\n",
    "                #terms[t] = sub_letters(terms[t])\n",
    "    \n",
    "    new_terms = terms\n",
    "    doc_pred_list = []\n",
    "    tp_list = []\n",
    "    all_probs = []\n",
    "    for terms in new_terms:\n",
    "        if isinstance(terms, list):\n",
    "            new_doc_bow = id2word_dict.doc2bow(terms)\n",
    "        else:\n",
    "            new_doc_bow = id2word_dict.doc2bow([terms])\n",
    "        lda_pred = lda_model[new_doc_bow]\n",
    "        doc_pred_list.append(lda_pred)\n",
    "    \n",
    "    for pred in doc_pred_list:\n",
    "        prob_list = []\n",
    "        for tp in pred:\n",
    "            prob_list.append(tp[1]) \n",
    "        all_probs.append(prob_list)\n",
    "        candi_tp_idx = np.argmax(prob_list)\n",
    "        candi_tp = pred[candi_tp_idx]\n",
    "        tp_list.append(candi_tp)\n",
    "\n",
    "    return list(zip(tp_list, new_terms)), all_probs"
   ]
  },
  {
   "cell_type": "code",
   "execution_count": 15,
   "metadata": {},
   "outputs": [
    {
     "data": {
      "text/plain": [
       "[(0, 0.04347826),\n",
       " (1, 0.04347826),\n",
       " (2, 0.04347826),\n",
       " (3, 0.04347826),\n",
       " (4, 0.04347826),\n",
       " (5, 0.04347826),\n",
       " (6, 0.04347826),\n",
       " (7, 0.04347826),\n",
       " (8, 0.04347826),\n",
       " (9, 0.04347826),\n",
       " (10, 0.04347826),\n",
       " (11, 0.04347826),\n",
       " (12, 0.04347826),\n",
       " (13, 0.04347826),\n",
       " (14, 0.04347826),\n",
       " (15, 0.04347826),\n",
       " (16, 0.04347826),\n",
       " (17, 0.04347826),\n",
       " (18, 0.04347826),\n",
       " (19, 0.04347826),\n",
       " (20, 0.04347826),\n",
       " (21, 0.04347826),\n",
       " (22, 0.04347826)]"
      ]
     },
     "execution_count": 15,
     "metadata": {},
     "output_type": "execute_result"
    }
   ],
   "source": [
    "new_doc_bow = id2word_dict.doc2bow(['concrete mixture'])\n",
    "lda_model[new_doc_bow]"
   ]
  },
  {
   "cell_type": "code",
   "execution_count": 49,
   "metadata": {},
   "outputs": [],
   "source": [
    "def acc_demo(testing_terms, true_labels, lda_model, stopwords, num=100):\n",
    "    count = 0\n",
    "    acc_list = []\n",
    "    while(count < num):\n",
    "        preds, all_probs = model_test(testing_terms, lda_model, stopwords)\n",
    "        pred_idx = [p[0][0] for p in preds]\n",
    "\n",
    "        assert len(preds) == len(true_labels)\n",
    "        correct = 0\n",
    "        for i in range(0, len(pred_idx)):\n",
    "            if pred_idx[i]==true_labels[i]:\n",
    "                correct += 1\n",
    "            else:\n",
    "                #print('wrong prediction product idx {}, {}: true label -- {}, prediction -- {}'.format(i, testing_terms[i], true_topics[true_labels[i]], true_topics[pred_idx[i]]))\n",
    "                pass\n",
    "        acc = correct/len(pred_idx)\n",
    "        acc_list.append(acc)\n",
    "        count += 1\n",
    "    return pred_idx, acc_list\n"
   ]
  },
  {
   "cell_type": "code",
   "execution_count": 5,
   "metadata": {},
   "outputs": [],
   "source": [
    "# 装载模型 & 正确标签\n",
    "lda_model = load_model('work_3', root)"
   ]
  },
  {
   "cell_type": "markdown",
   "metadata": {},
   "source": [
    "### 加载testing数据 no enhancement"
   ]
  },
  {
   "cell_type": "code",
   "execution_count": 71,
   "metadata": {},
   "outputs": [
    {
     "data": {
      "text/plain": [
       "26"
      ]
     },
     "execution_count": 71,
     "metadata": {},
     "output_type": "execute_result"
    }
   ],
   "source": [
    "testing_terms.index('Gypsum Board')"
   ]
  },
  {
   "cell_type": "code",
   "execution_count": 72,
   "metadata": {},
   "outputs": [
    {
     "data": {
      "text/plain": [
       "8"
      ]
     },
     "execution_count": 72,
     "metadata": {},
     "output_type": "execute_result"
    }
   ],
   "source": [
    "true_labels[26]"
   ]
  },
  {
   "cell_type": "code",
   "execution_count": 84,
   "metadata": {
    "scrolled": true
   },
   "outputs": [],
   "source": [
    "test_sample_size = 50\n",
    "#testing_terms = generate_testing_terms(test_sample_size, len(id2word_dict)-1, id2word_dict)\n",
    "#testing_terms.extend([''])\n",
    "#true_labels = [8,6,0,6,2,0,0,0,1,3,7,9,1,4,5,9,9,7,1,6,3,4,8,1,0,7,8,6,0,8,0,3,9,7,3,0,1,2,4,5,3,4,0,2,1,0,4,1,7,8]\n",
    "\n",
    "#test_df = pd.DataFrame({'task_name':testing_terms, 'true_label':true_labels})\n",
    "#test_df.to_csv('./testing_df2.csv')\n",
    "\n",
    "testing_terms = list(pd.read_csv('./testing_df2.csv')['task_name'].values)\n",
    "true_labels = list(pd.read_csv('./testing_df2.csv')['true_label'].values)\n",
    "\n",
    "# for 23 tasks: wall panel - 19, steel ceiling beam - 5, ceiling panel -1, gemtree frp board - 14, promatect hboard-20, rockwool - 18\n",
    "# for 10 tasks: gypsum board -8, shaer stud -0"
   ]
  },
  {
   "cell_type": "code",
   "execution_count": 85,
   "metadata": {
    "scrolled": true
   },
   "outputs": [
    {
     "data": {
      "text/plain": [
       "[0.9006024096385542,\n",
       " 0.9006024096385542,\n",
       " 0.9006024096385542,\n",
       " 0.9066265060240963,\n",
       " 0.8975903614457831,\n",
       " 0.9006024096385542,\n",
       " 0.9006024096385542,\n",
       " 0.9036144578313253,\n",
       " 0.9006024096385542,\n",
       " 0.9096385542168675]"
      ]
     },
     "execution_count": 85,
     "metadata": {},
     "output_type": "execute_result"
    }
   ],
   "source": [
    "pred_idx_last, acc_list1 = acc_demo(testing_terms, true_labels, lda_model, stopwords, num=100)\n",
    "acc_list1[:10]"
   ]
  },
  {
   "cell_type": "code",
   "execution_count": 86,
   "metadata": {},
   "outputs": [
    {
     "data": {
      "image/png": "[encoded data removed]",
      "text/plain": [
       "<Figure size 432x288 with 2 Axes>"
      ]
     },
     "metadata": {
      "needs_background": "light"
     },
     "output_type": "display_data"
    }
   ],
   "source": [
    "cm = confusion_matrix(true_labels, pred_idx_last) # para1 - true, para2 - preds\n",
    "fig_path = os.path.join(root, 'confu_mt_10_1.jpg')\n",
    "plot_confusion_matrix(cm, fig_path)"
   ]
  },
  {
   "cell_type": "markdown",
   "metadata": {},
   "source": [
    "### 加载testing数据 enhanced"
   ]
  },
  {
   "cell_type": "code",
   "execution_count": 127,
   "metadata": {},
   "outputs": [],
   "source": [
    "testing_terms2 = list(pd.read_csv('./testing_df3.csv')['task_name'].values)\n",
    "for i in range(len(testing_terms2)):\n",
    "    if ',' in testing_terms2[i]:\n",
    "        x = testing_terms2[i]\n",
    "        testing_terms2[i] = x.split(',')\n",
    "        \n",
    "true_labels2 = list(pd.read_csv('./testing_df3.csv')['true_label'].values)"
   ]
  },
  {
   "cell_type": "code",
   "execution_count": 128,
   "metadata": {
    "scrolled": true
   },
   "outputs": [
    {
     "data": {
      "text/plain": [
       "[0.9386503067484663,\n",
       " 0.941717791411043,\n",
       " 0.9386503067484663,\n",
       " 0.9355828220858896,\n",
       " 0.9386503067484663,\n",
       " 0.9478527607361963,\n",
       " 0.941717791411043,\n",
       " 0.941717791411043,\n",
       " 0.9386503067484663,\n",
       " 0.9355828220858896]"
      ]
     },
     "execution_count": 128,
     "metadata": {},
     "output_type": "execute_result"
    }
   ],
   "source": [
    "pred_idx_last2, acc_list2 = acc_demo(testing_terms2, true_labels2, lda_model, stopwords, num=100)\n",
    "acc_list2[:10]"
   ]
  },
  {
   "cell_type": "code",
   "execution_count": 129,
   "metadata": {},
   "outputs": [
    {
     "data": {
      "image/png": "[encoded data removed]",
      "text/plain": [
       "<Figure size 432x288 with 2 Axes>"
      ]
     },
     "metadata": {
      "needs_background": "light"
     },
     "output_type": "display_data"
    }
   ],
   "source": [
    "cm2 = confusion_matrix(true_labels2, pred_idx_last2)\n",
    "fig_path2 = os.path.join(root, 'confu_mt_10_2.jpg')\n",
    "plot_confusion_matrix(cm2, fig_path2)"
   ]
  },
  {
   "cell_type": "code",
   "execution_count": 130,
   "metadata": {},
   "outputs": [
    {
     "name": "stdout",
     "output_type": "stream",
     "text": [
      "0.903222891566265\n",
      "0.9397546012269938\n"
     ]
    }
   ],
   "source": [
    "print(np.mean(acc_list1))\n",
    "print(np.mean(acc_list2))"
   ]
  },
  {
   "cell_type": "code",
   "execution_count": 131,
   "metadata": {},
   "outputs": [],
   "source": [
    "total_acc = acc_list1 + acc_list2\n",
    "mode = ['not enhanced', 'enhanced']\n",
    "modes = [val for val in mode for i in range(100)]"
   ]
  },
  {
   "cell_type": "code",
   "execution_count": 132,
   "metadata": {},
   "outputs": [
    {
     "data": {
      "image/png": "[encoded data removed]",
      "text/plain": [
       "<Figure size 576x576 with 1 Axes>"
      ]
     },
     "metadata": {
      "needs_background": "light"
     },
     "output_type": "display_data"
    }
   ],
   "source": [
    "box_df2 = pd.DataFrame({'accuracy without enriching':acc_list1, 'accuracy with enriching':acc_list2})\n",
    "\n",
    "plt.figure(figsize = (8,8))\n",
    "seaborn.boxenplot(data=box_df2, orient='v', palette='Set3')\n",
    "plt.xlabel('Model setting', fontsize=18)\n",
    "plt.ylabel('Mapping accuracy', fontsize=18)\n",
    "plt.yticks(fontsize=18)\n",
    "plt.xticks(fontsize=18)\n",
    "\n",
    "fig_path3 = os.path.join(root, 'box_10.jpg')\n",
    "plt.savefig(fig_path3, dpi=400) \n",
    "plt.show()"
   ]
  },
  {
   "cell_type": "markdown",
   "metadata": {},
   "source": [
    "### 使用Ceiling Panel展示效果"
   ]
  },
  {
   "cell_type": "code",
   "execution_count": 18,
   "metadata": {},
   "outputs": [],
   "source": [
    "def compute_stability(term, num=100):\n",
    "    count = 0\n",
    "    tasks = list(np.zeros((topic_len)).astype(int))\n",
    "    while count < num:\n",
    "        new_doc_bow = id2word_dict.doc2bow([term])\n",
    "        lda_pred = lda_model[new_doc_bow]\n",
    "        pred_idx = np.argmax([x[1] for x in lda_pred]) # e.g., 4\n",
    "        #print(pred_idx)\n",
    "        tasks[pred_idx] += 1 # counting\n",
    "        count += 1    \n",
    "    return tasks\n",
    "    "
   ]
  },
  {
   "cell_type": "code",
   "execution_count": 19,
   "metadata": {},
   "outputs": [],
   "source": [
    "#fig_path = os.path.join(root, 'bar_demo1.png')  # promatect hboard\n",
    "#fig_path2 = os.path.join(root, 'bar_demo2.png') # ceiling panel\n",
    "#fig_path3 = os.path.join(root, 'bar_demo3.png') # electrode\n",
    "fig_path4 = os.path.join(root, 'bar.jpg') # steel ceiling beam"
   ]
  },
  {
   "cell_type": "code",
   "execution_count": 20,
   "metadata": {},
   "outputs": [],
   "source": [
    "task_counts_1 = compute_stability('promatect hboard')\n",
    "task_counts_2 = compute_stability('ceiling panel')\n",
    "task_counts_3 = compute_stability('electrode')\n",
    "task_counts_4 = compute_stability('steel ceiling beam')"
   ]
  },
  {
   "cell_type": "code",
   "execution_count": 23,
   "metadata": {
    "scrolled": true
   },
   "outputs": [
    {
     "data": {
      "text/plain": [
       "<Figure size 4608x4608 with 0 Axes>"
      ]
     },
     "metadata": {},
     "output_type": "display_data"
    },
    {
     "data": {
      "image/png": "[encoded data removed]",
      "text/plain": [
       "<Figure size 432x288 with 4 Axes>"
      ]
     },
     "metadata": {
      "needs_background": "light"
     },
     "output_type": "display_data"
    }
   ],
   "source": [
    "plt.figure(figsize = (64, 64))\n",
    "fig, ax = plt.subplots(2, 2, sharey=True) # 2 rows and 2 columns\n",
    "plt.subplots_adjust(left=None, bottom=None, right=None, top=None, wspace=0.1, hspace=0.3)\n",
    "\n",
    "xx = [str(i) for i in range(23)]\n",
    "ax[0,0].set_xticklabels(xx, fontsize=6)\n",
    "ax[0,0].set_yticklabels([0,25,50,75,100], fontsize=6)\n",
    "ax[0,0].bar(xx, task_counts_1, width=0.8)\n",
    "ax[0,0].set_title('product \\'' + 'promatect hboard' + '\\'', fontsize=8) \n",
    "ax[0,0].set_ylabel('Counts', fontsize=8)\n",
    "\n",
    "ax[0,1].set_xticklabels(xx, fontsize=6)\n",
    "ax[0,1].set_yticklabels([0,25,50,75,100], fontsize=6)\n",
    "ax[0,1].bar(xx, task_counts_2, width=0.8)\n",
    "ax[0,1].set_title('product \\'' + 'ceiling panel' + '\\'', fontsize=8) \n",
    "\n",
    "ax[1,0].set_xticklabels(xx, fontsize=6)\n",
    "ax[1,0].set_yticklabels([0,25,50,75,100], fontsize=6)\n",
    "ax[1,0].bar(xx, task_counts_3, width=0.8)\n",
    "ax[1,0].set_title('product \\'' + 'electrode' + '\\'', fontsize=8) \n",
    "ax[1,0].set_ylabel('Counts', fontsize=8)\n",
    "ax[1,0].set_xlabel('Task index', fontsize=8)\n",
    "\n",
    "ax[1,1].set_xticklabels(xx, fontsize=6)\n",
    "ax[1,1].set_yticklabels([0,25,50,75,100], fontsize=6)\n",
    "ax[1,1].bar(xx, task_counts_4, width=0.8)\n",
    "ax[1,1].set_title('product \\'' + 'steel ceiling beam' + '\\'', fontsize=8)\n",
    "ax[1,1].set_xlabel('Task index', fontsize=8)\n",
    "\n",
    "#plt.savefig(fig_path4, dpi=400) \n",
    "plt.show()"
   ]
  },
  {
   "cell_type": "code",
   "execution_count": null,
   "metadata": {},
   "outputs": [],
   "source": []
  },
  {
   "cell_type": "code",
   "execution_count": null,
   "metadata": {},
   "outputs": [],
   "source": [
    "#from sklearn.feature_extraction.text import CountVectorizer\n",
    "#from biterm.utility import vec_to_biterms\n",
    "#from biterm.btm import oBTM\n",
    "#from biterm.utility import vec_to_biterms, topic_summuary\n",
    "#\n",
    "#texts = open('./data/train_df.txt').read().splitlines()\n",
    "#\n",
    "#vec = CountVectorizer()\n",
    "#x = vec.fit_transform(texts).toarray()\n",
    "#print(x.shape)\n",
    "#\n",
    "#vocab = np.array(vec.get_feature_names())\n",
    "#vocab\n",
    "#\n",
    "#biterms = vec_to_biterms(x)\n",
    "#btm = oBTM(num_topics=33, V=vocab)\n",
    "#topics = btm.fit_transform(biterms, iterations=100)\n",
    "#\n",
    "#summary = topic_summuary(btm.phi_wz.T, x, vocab, 10)\n",
    "#top_words = summary['top_words']\n",
    "#for tw in top_words:\n",
    "#    for w in tw:\n",
    "#        print(w.replace('uu', ' '))\n",
    "#    print()\n",
    "\n",
    "#file = open('./data/train_df.txt', 'w')\n",
    "#for lt in train_term_list:\n",
    "#    for l in lt:\n",
    "#        file.write(l)\n",
    "#        file.write(' ')\n",
    "#    file.write('.\\n')\n",
    "#file.close()"
   ]
  },
  {
   "cell_type": "code",
   "execution_count": null,
   "metadata": {},
   "outputs": [],
   "source": [
    "testing_terms[0]='Installation of gypsum board at wall surface'\n",
    "testing_terms[1]='Promatect HBoard'\n",
    "testing_terms[2]='2D panel'\n",
    "testing_terms[3]='Lysaght Bondek'\n",
    "testing_terms[4]='Electrode'\n",
    "testing_terms[5]='Steel Column'\n",
    "testing_terms[6]='Steel floor beam'\n",
    "testing_terms[7]='Steel ceiling beam'\n",
    "testing_terms[8]='Glass Panel'\n",
    "testing_terms[9]='Aluminium Cladding'\n",
    "testing_terms[10]='Apply fire paint at strucutral member'\n",
    "testing_terms[11]='Concrete addings'\n",
    "testing_terms[12]='Door ironmongery and windows installation'\n",
    "testing_terms[13]='Rebar Fixing'\n",
    "testing_terms[14]='Composite floor slab'\n",
    "testing_terms[15]='Pouring Concrete'\n",
    "testing_terms[16]='Non-shrink Grout'\n",
    "testing_terms[17]='Firecut paint'\n",
    "testing_terms[18]='Latches'\n",
    "testing_terms[19]='Gemtree FRP Board'\n",
    "testing_terms[20]='Door and window frame installation'\n",
    "testing_terms[21]='Steel Reinforcement Bar'\n",
    "testing_terms[22]='Laminates'\n",
    "testing_terms[23]='FRP Timber Door'\n",
    "testing_terms[24]='3D assembly'\n",
    "testing_terms[25]='Firecut FM-900 paint'\n",
    "testing_terms[26]='Gypsum Board'\n",
    "testing_terms[27]='Knauf FRP Board'\n",
    "testing_terms[28]='Steel Angle'\n",
    "testing_terms[29]='Laminate for wall finsishes'\n",
    "testing_terms[30]='CandleLoc System'\n",
    "testing_terms[31]='Overhead Door Closer'\n",
    "testing_terms[32]='Concrete mixture'\n",
    "testing_terms[33]='3D steel frame'\n",
    "testing_terms[34]='Door threshold'\n",
    "testing_terms[35]='Steel Purlins'\n",
    "testing_terms[36]='Door Ironmongery'\n",
    "testing_terms[37]='Welding Electrode'\n",
    "testing_terms[38]='Reinforcement Bar'\n",
    "testing_terms[39]='Corrugated profile'\n",
    "testing_terms[40]='Hardwood Solid Core Flush Doors'\n",
    "testing_terms[41]='Tie Wire'\n",
    "testing_terms[42]='Shear stud'\n",
    "testing_terms[43]='Butt weld and fillet weld'\n",
    "testing_terms[44]='Aluminium Window'\n",
    "testing_terms[45]='Corner Casting'\n",
    "testing_terms[46]='Spacer'\n",
    "testing_terms[47]='Hinge'\n",
    "testing_terms[48]='Fire protection paint'\n",
    "testing_terms[49]='Finishings'\n"
   ]
  }
 ],
 "metadata": {
  "kernelspec": {
   "display_name": "Python 3",
   "language": "python",
   "name": "python3"
  },
  "language_info": {
   "codemirror_mode": {
    "name": "ipython",
    "version": 3
   },
   "file_extension": ".py",
   "mimetype": "text/x-python",
   "name": "python",
   "nbconvert_exporter": "python",
   "pygments_lexer": "ipython3",
   "version": "3.8.8"
  }
 },
 "nbformat": 4,
 "nbformat_minor": 4
}
